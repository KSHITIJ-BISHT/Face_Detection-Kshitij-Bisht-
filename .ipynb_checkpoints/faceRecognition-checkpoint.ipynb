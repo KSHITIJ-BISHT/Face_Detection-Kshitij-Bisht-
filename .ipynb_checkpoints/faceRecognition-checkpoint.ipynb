{
 "cells": [
  {
   "cell_type": "code",
   "execution_count": 2,
   "metadata": {},
   "outputs": [],
   "source": [
    "#Live Face detection application\n",
    "\n",
    "#Function for face detection\n",
    "def detectFace(frame):\n",
    "     #XML file for detecting faces\n",
    "    face_cascade=cv2.CascadeClassifier(\"haarcascade_frontalface_default.xml\")\n",
    "    faces=face_cascade.detectMultiScale(frame,scaleFactor=1.05,minNeighbors=5)\n",
    "    \n",
    "    #showing all the faces in the frame\n",
    "    for x,y,w,h in faces:\n",
    "        img=cv2.rectangle(frame,(x,y),(x+w,y+h),(255,0,0),3)\n",
    "        resized=cv2.resize(frame,(int(frame.shape[1]),int(frame.shape[0])))\n",
    "        cv2.imshow(\"FACE RECOGNITION -KSHITIJ BISHT\",frame)\n",
    "\n",
    "\n",
    "import cv2,time\n",
    "#Capturing frames from webcam \n",
    "video=cv2.VideoCapture(0)\n",
    "while True:\n",
    "    check,frame=video.read()\n",
    "    #calling Face Detection Function\n",
    "    detectFace(frame)\n",
    "    #showing each frame for 1ms \n",
    "    key=cv2.waitKey(1)\n",
    "    #Press q for exiting the window\n",
    "    if key==ord('q'):\n",
    "        break\n",
    "#Releasing the video capturing\n",
    "video.release()\n",
    "cv2.destroyAllWindows()"
   ]
  }
 ],
 "metadata": {
  "kernelspec": {
   "display_name": "Python 3",
   "language": "python",
   "name": "python3"
  },
  "language_info": {
   "codemirror_mode": {
    "name": "ipython",
    "version": 3
   },
   "file_extension": ".py",
   "mimetype": "text/x-python",
   "name": "python",
   "nbconvert_exporter": "python",
   "pygments_lexer": "ipython3",
   "version": "3.7.3"
  }
 },
 "nbformat": 4,
 "nbformat_minor": 2
}
